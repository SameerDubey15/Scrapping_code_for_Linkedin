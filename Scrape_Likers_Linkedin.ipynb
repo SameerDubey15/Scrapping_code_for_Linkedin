{
 "cells": [
  {
   "cell_type": "code",
   "execution_count": 1,
   "id": "d88005f3",
   "metadata": {},
   "outputs": [],
   "source": [
    "# Importing libraries for web scrapping\n",
    "from selenium import webdriver\n",
    "from bs4 import BeautifulSoup\n",
    "from selenium.common.exceptions import StaleElementReferenceException, NoSuchElementException, TimeoutException\n",
    "# Importing libraries for performing operations\n",
    "import re\n",
    "import time\n",
    "import requests\n",
    "import pandas as pd\n",
    "\n",
    "# Importing libraries for searching & waiting to perform operations\n",
    "from selenium.webdriver.common.by import By\n",
    "from selenium.webdriver.support import expected_conditions as EC\n",
    "from selenium.webdriver.support.ui import WebDriverWait"
   ]
  },
  {
   "cell_type": "code",
   "execution_count": 2,
   "id": "0f2c2164",
   "metadata": {},
   "outputs": [],
   "source": [
    "# Get linkedin username and password form user:\n",
    "#print(\"Please enter the exact LinkedIn username you use to login (email/phone?):\")\n",
    "#username_string = str(input()) \n",
    "#print()\n",
    "#print(\"Please enter the exact LinkedIn password:\")\n",
    "#password_string = str(input())\n",
    "#print()\n",
    "#print(\"Please enter your usernmae exactly how it appears in your profile link (after '/in') :\")\n",
    "#link_username = str(input())\n",
    "#print()"
   ]
  },
  {
   "cell_type": "code",
   "execution_count": 3,
   "id": "fdb37f40",
   "metadata": {},
   "outputs": [],
   "source": [
    "# Opening browser\n",
    "browser = webdriver.Chrome()\n",
    "browser.get('https://www.linkedin.com/login')"
   ]
  },
  {
   "cell_type": "code",
   "execution_count": 4,
   "id": "3af0eaa3",
   "metadata": {},
   "outputs": [],
   "source": [
    "# Enter the specified information to login to LinkedIn:\n",
    "username_string='dubeysameer2002@yahoo.com'\n",
    "password_string='Nov@2020'\n",
    "elementID = browser.find_element(By.ID,'username')\n",
    "elementID.send_keys(username_string)\n",
    "elementID = browser.find_element(By.ID,'password')\n",
    "elementID.send_keys(password_string)\n",
    "elementID.submit()"
   ]
  },
  {
   "cell_type": "code",
   "execution_count": 5,
   "id": "a517fc89",
   "metadata": {},
   "outputs": [],
   "source": [
    "# Enter the url of posts to be scrapped\n",
    "links=[\n",
    "\"https://www.linkedin.com/posts/rithesh-darish_confidence-success-mindset-activity-7081176059437592576-LzMr/?utm_source=share&utm_medium=member_desktop\",\n",
    "\"https://www.linkedin.com/feed/update/urn:li:activity:7081255193098522624/\",\n",
    "\"https://www.linkedin.com/feed/update/urn:li:activity:7081542102525902848/\",\n",
    "\"https://www.linkedin.com/feed/update/urn:li:activity:7081685145597980672/\",\n",
    "\"https://www.linkedin.com/feed/update/urn:li:share:7081927317131837441/\",\n",
    "\"https://www.linkedin.com/feed/update/urn:li:activity:7081979995987841026/\",\n",
    "\"https://www.linkedin.com/posts/rithesh-darish_passions-careerresearch-profession-activity-7082266669305237505-W5FV?utm_source=share&utm_medium=member_desktop\",\n",
    "\"https://www.linkedin.com/feed/update/urn:li:activity:7082359771181289472/\",\n",
    "\"https://www.linkedin.com/feed/update/urn:li:activity:7082631547605954560/\",\n",
    "\"https://www.linkedin.com/feed/update/urn:li:activity:7082753488350281728/\",\n",
    "\"https://www.linkedin.com/posts/rithesh-darish_save-remember-revisit-activity-7083067134351724545-u0lr/?utm_source=share&utm_medium=member_desktop\",\n",
    "\"https://www.linkedin.com/posts/rithesh-darish_happiness-naturetherapy-positivevibes-activity-7082991634342154241-w1BL/?utm_source=share&utm_medium=member_desktop\",\n",
    "\"https://www.linkedin.com/feed/update/urn:li:activity:7083429524821995520/\",\n",
    "\"https://www.linkedin.com/feed/update/urn:li:activity:7083359570751864832/\",\n",
    "\"https://www.linkedin.com/feed/update/urn:li:activity:7083730274567536640/\",\n",
    "\"https://www.linkedin.com/feed/update/urn:li:activity:7083855943817441280/\",\n",
    "\"https://www.linkedin.com/feed/update/urn:li:share:7084086466447884289/\",\n",
    "\"https://www.linkedin.com/feed/update/urn:li:activity:7084223967858741248/\",\n",
    "\"https://www.linkedin.com/feed/update/urn:li:activity:7084449429809758208/\",\n",
    "\"https://www.linkedin.com/feed/update/urn:li:activity:7084515147204984832/\",\n",
    "\"https://www.linkedin.com/feed/update/urn:li:activity:7084803573493989376/\",\n",
    "\"https://www.linkedin.com/feed/update/urn:li:activity:7084879078373130240/\",\n",
    "\"https://www.linkedin.com/posts/rithesh-darish_skills-expertise-display-activity-7085165962248794112-SAmi?utm_source=share&utm_medium=member_desktop\",\n",
    "\"https://www.linkedin.com/feed/update/urn:li:activity:7085295728910090240/\",\n",
    "\"https://www.linkedin.com/feed/update/urn:li:activity:7085554327590735873/\",\n",
    "\"https://www.linkedin.com/feed/update/urn:li:activity:7085671807520821248/\",\n",
    "\"https://www.linkedin.com/posts/rithesh-darish_takenotes-knowledge-wisdom-activity-7085972438269767681-5mNU?utm_source=share&utm_medium=member_desktop\",\n",
    "\"https://www.linkedin.com/posts/rithesh-darish_visualizedata-informationdesign-simplifycomplexity-activity-7085671807520821248-jvcL?utm_source=share&utm_medium=member_desktop\"\n",
    "]\n"
   ]
  },
  {
   "cell_type": "code",
   "execution_count": 6,
   "id": "e59ea2f9",
   "metadata": {
    "scrolled": true
   },
   "outputs": [
    {
     "data": {
      "text/plain": [
       "28"
      ]
     },
     "execution_count": 6,
     "metadata": {},
     "output_type": "execute_result"
    }
   ],
   "source": [
    "len(links)"
   ]
  },
  {
   "cell_type": "code",
   "execution_count": 7,
   "id": "7dcb906c",
   "metadata": {},
   "outputs": [
    {
     "name": "stdout",
     "output_type": "stream",
     "text": [
      "list \"people\" is empty\n",
      "list \"people\" is empty\n",
      "list \"people\" is empty\n",
      "list \"people\" is empty\n",
      "list \"people\" is empty\n",
      "list \"people\" is empty\n",
      "list \"people\" is empty\n",
      "list \"people\" is empty\n",
      "list \"people\" is empty\n",
      "list \"people\" is empty\n",
      "list \"people\" is empty\n",
      "list \"people\" is empty\n",
      "list \"people\" is empty\n",
      "list \"people\" is empty\n",
      "list \"people\" is empty\n",
      "list \"people\" is empty\n",
      "list \"people\" is empty\n",
      "list \"people\" is empty\n",
      "list \"people\" is empty\n",
      "list \"people\" is empty\n",
      "list \"people\" is empty\n",
      "list \"people\" is empty\n",
      "list \"people\" is empty\n",
      "list \"people\" is empty\n",
      "list \"people\" is empty\n",
      "list \"people\" is empty\n",
      "list \"people\" is empty\n",
      "list \"people\" is empty\n"
     ]
    }
   ],
   "source": [
    "# Creating List\n",
    "likers=[]\n",
    "Url=[]\n",
    "for url in links:\n",
    "    try:\n",
    "        browser.get(url)\n",
    "        time.sleep(1)\n",
    "        click = browser.find_element(By.CLASS_NAME,\"social-details-social-counts__count-value\")\n",
    "        browser.execute_script(\"arguments[0].click();\", click)\n",
    "        while 1:\n",
    "            people =browser.find_elements(By.XPATH, \"//ul[@class='artdeco-list artdeco-list--offset-1']/li\")\n",
    "            if not people:\n",
    "                print('list \"people\" is empty')\n",
    "                break\n",
    "            show_more_btn = browser.find_elements(By.XPATH, '//div[@id=\"artdeco-modal-outlet\"]//button[contains(@class,\"load-button\")]')\n",
    "            try:\n",
    "                if show_more_btn:\n",
    "                    show_more_btn[0].click()\n",
    "            except StaleElementReferenceException:\n",
    "                pass\n",
    "            for person in people:\n",
    "                name = browser.find_element(By.XPATH, './/div[contains(@class,\"artdeco-entity-lockup__title\")]').text.split('\\n')[0]\n",
    "                try:\n",
    "                    url = browser.find_element(By.XPATH, './/div[@class=\"inline-flex full-width\"]/a').get_attribute('href')              \n",
    "                except:\n",
    "                    pass\n",
    "                likers.append(name)\n",
    "                Url.append(url)\n",
    "                time.sleep(1)\n",
    "                browser.execute_script('var element = arguments[0]; element.remove();', person)\n",
    "    except NoSuchElementException:\n",
    "        pass"
   ]
  },
  {
   "cell_type": "code",
   "execution_count": 8,
   "id": "5d8d258b",
   "metadata": {},
   "outputs": [],
   "source": [
    "# Creating csv file for storing data\n",
    "data={'Names':likers,'Url':Url}\n",
    "df=pd.DataFrame(data,index=range(1,len(likers)+1))\n",
    "df.to_excel(\"Likes_Final.xlsx\",index=False)"
   ]
  },
  {
   "cell_type": "code",
   "execution_count": 9,
   "id": "b9578060",
   "metadata": {},
   "outputs": [
    {
     "data": {
      "text/html": [
       "<div>\n",
       "<style scoped>\n",
       "    .dataframe tbody tr th:only-of-type {\n",
       "        vertical-align: middle;\n",
       "    }\n",
       "\n",
       "    .dataframe tbody tr th {\n",
       "        vertical-align: top;\n",
       "    }\n",
       "\n",
       "    .dataframe thead th {\n",
       "        text-align: right;\n",
       "    }\n",
       "</style>\n",
       "<table border=\"1\" class=\"dataframe\">\n",
       "  <thead>\n",
       "    <tr style=\"text-align: right;\">\n",
       "      <th></th>\n",
       "      <th>Names</th>\n",
       "      <th>Url</th>\n",
       "    </tr>\n",
       "  </thead>\n",
       "  <tbody>\n",
       "    <tr>\n",
       "      <th>1</th>\n",
       "      <td>Sameer Dubey</td>\n",
       "      <td>https://www.linkedin.com/in/sameerdubey7?miniP...</td>\n",
       "    </tr>\n",
       "    <tr>\n",
       "      <th>2</th>\n",
       "      <td>Rutuja N.</td>\n",
       "      <td>https://www.linkedin.com/in/rutuja-n-5ba482259...</td>\n",
       "    </tr>\n",
       "    <tr>\n",
       "      <th>3</th>\n",
       "      <td>Thammireddygari N.</td>\n",
       "      <td>https://www.linkedin.com/in/thammireddygari-ni...</td>\n",
       "    </tr>\n",
       "    <tr>\n",
       "      <th>4</th>\n",
       "      <td>Sithaardan Manoharan</td>\n",
       "      <td>https://www.linkedin.com/in/sithaardan-manohar...</td>\n",
       "    </tr>\n",
       "    <tr>\n",
       "      <th>5</th>\n",
       "      <td>Keerthana S</td>\n",
       "      <td>https://www.linkedin.com/in/keerthana-s-571713...</td>\n",
       "    </tr>\n",
       "    <tr>\n",
       "      <th>...</th>\n",
       "      <td>...</td>\n",
       "      <td>...</td>\n",
       "    </tr>\n",
       "    <tr>\n",
       "      <th>331</th>\n",
       "      <td>Keerthana S</td>\n",
       "      <td>https://www.linkedin.com/in/keerthana-s-571713...</td>\n",
       "    </tr>\n",
       "    <tr>\n",
       "      <th>332</th>\n",
       "      <td>Aditya Patil</td>\n",
       "      <td>https://www.linkedin.com/in/adityapatil18?mini...</td>\n",
       "    </tr>\n",
       "    <tr>\n",
       "      <th>333</th>\n",
       "      <td>Ozigen</td>\n",
       "      <td>https://www.linkedin.com/company/ozigen/?miniC...</td>\n",
       "    </tr>\n",
       "    <tr>\n",
       "      <th>334</th>\n",
       "      <td>Ozibook</td>\n",
       "      <td>https://www.linkedin.com/company/ozibook/?mini...</td>\n",
       "    </tr>\n",
       "    <tr>\n",
       "      <th>335</th>\n",
       "      <td>Rithesh Darish</td>\n",
       "      <td>https://www.linkedin.com/in/rithesh-darish?min...</td>\n",
       "    </tr>\n",
       "  </tbody>\n",
       "</table>\n",
       "<p>335 rows × 2 columns</p>\n",
       "</div>"
      ],
      "text/plain": [
       "                    Names                                                Url\n",
       "1            Sameer Dubey  https://www.linkedin.com/in/sameerdubey7?miniP...\n",
       "2               Rutuja N.  https://www.linkedin.com/in/rutuja-n-5ba482259...\n",
       "3      Thammireddygari N.  https://www.linkedin.com/in/thammireddygari-ni...\n",
       "4    Sithaardan Manoharan  https://www.linkedin.com/in/sithaardan-manohar...\n",
       "5             Keerthana S  https://www.linkedin.com/in/keerthana-s-571713...\n",
       "..                    ...                                                ...\n",
       "331           Keerthana S  https://www.linkedin.com/in/keerthana-s-571713...\n",
       "332          Aditya Patil  https://www.linkedin.com/in/adityapatil18?mini...\n",
       "333                Ozigen  https://www.linkedin.com/company/ozigen/?miniC...\n",
       "334               Ozibook  https://www.linkedin.com/company/ozibook/?mini...\n",
       "335        Rithesh Darish  https://www.linkedin.com/in/rithesh-darish?min...\n",
       "\n",
       "[335 rows x 2 columns]"
      ]
     },
     "execution_count": 9,
     "metadata": {},
     "output_type": "execute_result"
    }
   ],
   "source": [
    "df"
   ]
  },
  {
   "cell_type": "code",
   "execution_count": null,
   "id": "3f688adc",
   "metadata": {},
   "outputs": [],
   "source": []
  }
 ],
 "metadata": {
  "kernelspec": {
   "display_name": "Python 3 (ipykernel)",
   "language": "python",
   "name": "python3"
  },
  "language_info": {
   "codemirror_mode": {
    "name": "ipython",
    "version": 3
   },
   "file_extension": ".py",
   "mimetype": "text/x-python",
   "name": "python",
   "nbconvert_exporter": "python",
   "pygments_lexer": "ipython3",
   "version": "3.9.12"
  }
 },
 "nbformat": 4,
 "nbformat_minor": 5
}
